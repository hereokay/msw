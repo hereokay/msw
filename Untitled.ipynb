{
 "cells": [
  {
   "cell_type": "code",
   "execution_count": 1,
   "id": "8a4f439b-f354-4910-823e-aa96a8adef49",
   "metadata": {},
   "outputs": [
    {
     "name": "stderr",
     "output_type": "stream",
     "text": [
      "'pwd'��(��) ���� �Ǵ� �ܺ� ����, ������ �� �ִ� ���α׷�, �Ǵ�\n",
      "��ġ ������ �ƴմϴ�.\n"
     ]
    }
   ],
   "source": [
    "!pwd"
   ]
  },
  {
   "cell_type": "code",
   "execution_count": 2,
   "id": "6c157691-925d-4b77-854a-a59cee5dd75e",
   "metadata": {},
   "outputs": [
    {
     "name": "stderr",
     "output_type": "stream",
     "text": [
      "'ls'��(��) ���� �Ǵ� �ܺ� ����, ������ �� �ִ� ���α׷�, �Ǵ�\n",
      "��ġ ������ �ƴմϴ�.\n"
     ]
    }
   ],
   "source": [
    "!ls"
   ]
  },
  {
   "cell_type": "code",
   "execution_count": 3,
   "id": "c7f32ca4-435d-42f8-bb8d-7a14805d249e",
   "metadata": {},
   "outputs": [
    {
     "name": "stdout",
     "output_type": "stream",
     "text": [
      " C ����̺��� �������� �̸��� �����ϴ�.\n",
      " ���� �Ϸ� ��ȣ: 5017-9455\n",
      "\n",
      " C:\\Users\\jinjung\\Downloads\\auto-maple-2.3.6\\auto-maple-2.3.6 ���͸�\n",
      "\n",
      "2024-01-24  ���� 09:07    <DIR>          .\n",
      "2024-01-24  ���� 09:07    <DIR>          ..\n",
      "2024-01-21  ���� 07:30                52 .gitignore\n",
      "2024-01-21  ���� 07:30               105 .gitmodules\n",
      "2024-01-24  ���� 09:07    <DIR>          .ipynb_checkpoints\n",
      "2024-01-21  ���� 08:05    <DIR>          .settings\n",
      "2024-01-24  ���� 06:32         4,163,132 1.png\n",
      "2024-01-24  ���� 06:36         4,169,332 2.png\n",
      "2024-01-24  ���� 02:16    <DIR>          assets\n",
      "2024-01-24  ���� 06:31        22,466,083 best.pt\n",
      "2024-01-24  ���� 06:21               799 main.py\n",
      "2024-01-21  ���� 07:30             7,606 README.md\n",
      "2024-01-21  ���� 07:30                85 requirements.txt\n",
      "2024-01-21  ���� 11:30    <DIR>          resources\n",
      "2024-01-24  ���� 06:52    <DIR>          runs\n",
      "2024-01-24  ���� 04:09             2,051 setup.py\n",
      "2024-01-21  ���� 07:30    <DIR>          src\n",
      "2024-01-24  ���� 08:50               587 test.py\n",
      "2024-01-24  ���� 09:07                72 Untitled.ipynb\n",
      "              11�� ����          30,809,904 ����Ʈ\n",
      "               8�� ���͸�  31,504,556,032 ����Ʈ ����\n"
     ]
    }
   ],
   "source": [
    "ls"
   ]
  },
  {
   "cell_type": "code",
   "execution_count": 4,
   "id": "e92be43d-d6da-4b6d-a8d1-1230ff3c7f5d",
   "metadata": {},
   "outputs": [
    {
     "name": "stdout",
     "output_type": "stream",
     "text": [
      " C ����̺��� �������� �̸��� �����ϴ�.\n",
      " ���� �Ϸ� ��ȣ: 5017-9455\n",
      "\n",
      " C:\\Users\\jinjung\\Downloads\\auto-maple-2.3.6\\auto-maple-2.3.6 ���͸�\n",
      "\n",
      "2024-01-24  ���� 09:07    <DIR>          .\n",
      "2024-01-24  ���� 09:07    <DIR>          ..\n",
      "2024-01-21  ���� 07:30                52 .gitignore\n",
      "2024-01-21  ���� 07:30               105 .gitmodules\n",
      "2024-01-24  ���� 09:07    <DIR>          .ipynb_checkpoints\n",
      "2024-01-21  ���� 08:05    <DIR>          .settings\n",
      "2024-01-24  ���� 06:32         4,163,132 1.png\n",
      "2024-01-24  ���� 06:36         4,169,332 2.png\n",
      "2024-01-24  ���� 02:16    <DIR>          assets\n",
      "2024-01-24  ���� 06:31        22,466,083 best.pt\n",
      "2024-01-24  ���� 06:21               799 main.py\n",
      "2024-01-21  ���� 07:30             7,606 README.md\n",
      "2024-01-21  ���� 07:30                85 requirements.txt\n",
      "2024-01-21  ���� 11:30    <DIR>          resources\n",
      "2024-01-24  ���� 06:52    <DIR>          runs\n",
      "2024-01-24  ���� 04:09             2,051 setup.py\n",
      "2024-01-21  ���� 07:30    <DIR>          src\n",
      "2024-01-24  ���� 08:50               587 test.py\n",
      "2024-01-24  ���� 09:07                72 Untitled.ipynb\n",
      "              11�� ����          30,809,904 ����Ʈ\n",
      "               8�� ���͸�  31,504,478,208 ����Ʈ ����\n"
     ]
    }
   ],
   "source": [
    "ls"
   ]
  },
  {
   "cell_type": "code",
   "execution_count": 5,
   "id": "0667b5dc-78ce-4497-bbdf-cb8cf7530098",
   "metadata": {},
   "outputs": [
    {
     "name": "stdout",
     "output_type": "stream",
     "text": [
      "1\n"
     ]
    }
   ],
   "source": [
    "print(1)"
   ]
  },
  {
   "cell_type": "code",
   "execution_count": 6,
   "id": "6b175303-81af-45f8-8775-f55d58f3b7b8",
   "metadata": {},
   "outputs": [
    {
     "name": "stderr",
     "output_type": "stream",
     "text": [
      "c:\\users\\jinjung\\appdata\\local\\programs\\python\\python38\\lib\\site-packages\\tqdm\\auto.py:21: TqdmWarning: IProgress not found. Please update jupyter and ipywidgets. See https://ipywidgets.readthedocs.io/en/stable/user_install.html\n",
      "  from .autonotebook import tqdm as notebook_tqdm\n",
      "\n",
      "image 1/1 C:\\Users\\jinjung\\Downloads\\auto-maple-2.3.6\\auto-maple-2.3.6\\1.png: 128x224 1 me, 1 , 15.0ms\n",
      "Speed: 1.0ms preprocess, 15.0ms inference, 6.0ms postprocess per image at shape (1, 3, 224, 224)\n",
      "Results saved to \u001b[1mruns\\detect\\predict10\u001b[0m\n",
      "1 label saved to runs\\detect\\predict10\\labels\n"
     ]
    }
   ],
   "source": [
    "from ultralytics import YOLO\n",
    "\n",
    "model = YOLO('best.pt')\n",
    "\n",
    "results = model.predict(source='1.png', save=True, save_txt=True)  # save predictions as labels"
   ]
  },
  {
   "cell_type": "code",
   "execution_count": 7,
   "id": "d1dce102-d628-4735-a69e-0d4d0d414921",
   "metadata": {},
   "outputs": [
    {
     "name": "stdout",
     "output_type": "stream",
     "text": [
      "[ultralytics.yolo.engine.results.Results object with attributes:\n",
      "\n",
      "boxes: ultralytics.yolo.engine.results.Boxes object\n",
      "keypoints: None\n",
      "keys: ['boxes']\n",
      "masks: None\n",
      "names: {0: 'Slime', 1: 'tree', 2: 'me', 3: 'skill', 4: '주황버섯', 5: '파란달팽이', 6: '빨간달팽이', 7: '밭줄'}\n",
      "orig_img: array([[[255, 255, 255],\n",
      "        [255, 255, 255],\n",
      "        [255, 255, 255],\n",
      "        ...,\n",
      "        [255, 255, 255],\n",
      "        [255, 255, 255],\n",
      "        [255, 255, 255]],\n",
      "\n",
      "       [[255, 255, 255],\n",
      "        [255, 255, 255],\n",
      "        [255, 255, 255],\n",
      "        ...,\n",
      "        [255, 255, 255],\n",
      "        [255, 255, 255],\n",
      "        [255, 255, 255]],\n",
      "\n",
      "       [[255, 255, 255],\n",
      "        [255, 255, 255],\n",
      "        [255, 255, 255],\n",
      "        ...,\n",
      "        [255, 255, 255],\n",
      "        [255, 255, 255],\n",
      "        [255, 255, 255]],\n",
      "\n",
      "       ...,\n",
      "\n",
      "       [[187, 164, 136],\n",
      "        [186, 163, 135],\n",
      "        [181, 159, 132],\n",
      "        ...,\n",
      "        [181, 159, 132],\n",
      "        [186, 163, 135],\n",
      "        [187, 164, 136]],\n",
      "\n",
      "       [[187, 164, 136],\n",
      "        [187, 164, 136],\n",
      "        [186, 163, 135],\n",
      "        ...,\n",
      "        [186, 163, 135],\n",
      "        [187, 164, 136],\n",
      "        [187, 164, 136]],\n",
      "\n",
      "       [[187, 164, 136],\n",
      "        [187, 164, 136],\n",
      "        [187, 164, 136],\n",
      "        ...,\n",
      "        [187, 164, 136],\n",
      "        [187, 164, 136],\n",
      "        [187, 164, 136]]], dtype=uint8)\n",
      "orig_shape: (1400, 2560)\n",
      "path: 'C:\\\\Users\\\\jinjung\\\\Downloads\\\\auto-maple-2.3.6\\\\auto-maple-2.3.6\\\\1.png'\n",
      "probs: None\n",
      "speed: {'preprocess': 0.9975433349609375, 'inference': 14.959335327148438, 'postprocess': 5.981922149658203}]\n"
     ]
    }
   ],
   "source": [
    "print(results)"
   ]
  },
  {
   "cell_type": "code",
   "execution_count": 8,
   "id": "ba71e233-21d7-4725-8562-2612a282b7e4",
   "metadata": {},
   "outputs": [
    {
     "ename": "NameError",
     "evalue": "name 'result' is not defined",
     "output_type": "error",
     "traceback": [
      "\u001b[1;31m---------------------------------------------------------------------------\u001b[0m",
      "\u001b[1;31mNameError\u001b[0m                                 Traceback (most recent call last)",
      "Cell \u001b[1;32mIn[8], line 1\u001b[0m\n\u001b[1;32m----> 1\u001b[0m \u001b[43mresult\u001b[49m\u001b[38;5;241m.\u001b[39mdir()\n",
      "\u001b[1;31mNameError\u001b[0m: name 'result' is not defined"
     ]
    }
   ],
   "source": [
    "result.dir()"
   ]
  },
  {
   "cell_type": "code",
   "execution_count": 14,
   "id": "46458220-3354-4fd6-ac3e-3b816e97647e",
   "metadata": {},
   "outputs": [
    {
     "data": {
      "text/plain": [
       "['__class__',\n",
       " '__delattr__',\n",
       " '__dict__',\n",
       " '__dir__',\n",
       " '__doc__',\n",
       " '__eq__',\n",
       " '__format__',\n",
       " '__ge__',\n",
       " '__getattr__',\n",
       " '__getattribute__',\n",
       " '__getitem__',\n",
       " '__gt__',\n",
       " '__hash__',\n",
       " '__init__',\n",
       " '__init_subclass__',\n",
       " '__le__',\n",
       " '__len__',\n",
       " '__lt__',\n",
       " '__module__',\n",
       " '__ne__',\n",
       " '__new__',\n",
       " '__reduce__',\n",
       " '__reduce_ex__',\n",
       " '__repr__',\n",
       " '__setattr__',\n",
       " '__sizeof__',\n",
       " '__str__',\n",
       " '__subclasshook__',\n",
       " '__weakref__',\n",
       " '_keys',\n",
       " 'boxes',\n",
       " 'cpu',\n",
       " 'cuda',\n",
       " 'keypoints',\n",
       " 'keys',\n",
       " 'masks',\n",
       " 'names',\n",
       " 'new',\n",
       " 'numpy',\n",
       " 'orig_img',\n",
       " 'orig_shape',\n",
       " 'pandas',\n",
       " 'path',\n",
       " 'plot',\n",
       " 'probs',\n",
       " 'save_crop',\n",
       " 'save_txt',\n",
       " 'speed',\n",
       " 'to',\n",
       " 'tojson',\n",
       " 'update',\n",
       " 'verbose']"
      ]
     },
     "execution_count": 14,
     "metadata": {},
     "output_type": "execute_result"
    }
   ],
   "source": [
    "dir(results[0])"
   ]
  },
  {
   "cell_type": "code",
   "execution_count": 26,
   "id": "dc53afea-3e23-4b2c-ac98-38cb53a0b73f",
   "metadata": {},
   "outputs": [],
   "source": [
    "result = results[0]"
   ]
  },
  {
   "cell_type": "code",
   "execution_count": 20,
   "id": "eb0304fb-c087-45f5-818d-e54a77953109",
   "metadata": {},
   "outputs": [
    {
     "ename": "AttributeError",
     "evalue": "'list' object has no attribute 'boxes'",
     "output_type": "error",
     "traceback": [
      "\u001b[1;31m---------------------------------------------------------------------------\u001b[0m",
      "\u001b[1;31mAttributeError\u001b[0m                            Traceback (most recent call last)",
      "Cell \u001b[1;32mIn[20], line 1\u001b[0m\n\u001b[1;32m----> 1\u001b[0m \u001b[43mresult\u001b[49m\u001b[38;5;241;43m.\u001b[39;49m\u001b[43mboxes\u001b[49m\n",
      "\u001b[1;31mAttributeError\u001b[0m: 'list' object has no attribute 'boxes'"
     ]
    }
   ],
   "source": [
    "result.boxes"
   ]
  },
  {
   "cell_type": "code",
   "execution_count": 22,
   "id": "461fd35f-2add-419e-b12b-66fa03100319",
   "metadata": {},
   "outputs": [
    {
     "ename": "AttributeError",
     "evalue": "'list' object has no attribute 'boxes'",
     "output_type": "error",
     "traceback": [
      "\u001b[1;31m---------------------------------------------------------------------------\u001b[0m",
      "\u001b[1;31mAttributeError\u001b[0m                            Traceback (most recent call last)",
      "Cell \u001b[1;32mIn[22], line 1\u001b[0m\n\u001b[1;32m----> 1\u001b[0m \u001b[43mresult\u001b[49m\u001b[38;5;241;43m.\u001b[39;49m\u001b[43mboxes\u001b[49m\n",
      "\u001b[1;31mAttributeError\u001b[0m: 'list' object has no attribute 'boxes'"
     ]
    }
   ],
   "source": [
    "result."
   ]
  },
  {
   "cell_type": "code",
   "execution_count": 23,
   "id": "57753829-de7d-4faf-8c3c-8a86020c6a22",
   "metadata": {},
   "outputs": [
    {
     "data": {
      "text/plain": [
       "[ultralytics.yolo.engine.results.Results object with attributes:\n",
       " \n",
       " boxes: ultralytics.yolo.engine.results.Boxes object\n",
       " keypoints: None\n",
       " keys: ['boxes']\n",
       " masks: None\n",
       " names: {0: 'Slime', 1: 'tree', 2: 'me', 3: 'skill', 4: '주황버섯', 5: '파란달팽이', 6: '빨간달팽이', 7: '밭줄'}\n",
       " orig_img: array([[[255, 255, 255],\n",
       "         [255, 255, 255],\n",
       "         [255, 255, 255],\n",
       "         ...,\n",
       "         [255, 255, 255],\n",
       "         [255, 255, 255],\n",
       "         [255, 255, 255]],\n",
       " \n",
       "        [[255, 255, 255],\n",
       "         [255, 255, 255],\n",
       "         [255, 255, 255],\n",
       "         ...,\n",
       "         [255, 255, 255],\n",
       "         [255, 255, 255],\n",
       "         [255, 255, 255]],\n",
       " \n",
       "        [[255, 255, 255],\n",
       "         [255, 255, 255],\n",
       "         [255, 255, 255],\n",
       "         ...,\n",
       "         [255, 255, 255],\n",
       "         [255, 255, 255],\n",
       "         [255, 255, 255]],\n",
       " \n",
       "        ...,\n",
       " \n",
       "        [[187, 164, 136],\n",
       "         [186, 163, 135],\n",
       "         [181, 159, 132],\n",
       "         ...,\n",
       "         [181, 159, 132],\n",
       "         [186, 163, 135],\n",
       "         [187, 164, 136]],\n",
       " \n",
       "        [[187, 164, 136],\n",
       "         [187, 164, 136],\n",
       "         [186, 163, 135],\n",
       "         ...,\n",
       "         [186, 163, 135],\n",
       "         [187, 164, 136],\n",
       "         [187, 164, 136]],\n",
       " \n",
       "        [[187, 164, 136],\n",
       "         [187, 164, 136],\n",
       "         [187, 164, 136],\n",
       "         ...,\n",
       "         [187, 164, 136],\n",
       "         [187, 164, 136],\n",
       "         [187, 164, 136]]], dtype=uint8)\n",
       " orig_shape: (1400, 2560)\n",
       " path: 'C:\\\\Users\\\\jinjung\\\\Downloads\\\\auto-maple-2.3.6\\\\auto-maple-2.3.6\\\\1.png'\n",
       " probs: None\n",
       " speed: {'preprocess': 0.9975433349609375, 'inference': 14.959335327148438, 'postprocess': 5.981922149658203}]"
      ]
     },
     "execution_count": 23,
     "metadata": {},
     "output_type": "execute_result"
    }
   ],
   "source": [
    "result"
   ]
  },
  {
   "cell_type": "code",
   "execution_count": 34,
   "id": "ab2dc843-1e65-4d1a-979b-ba7b696363fc",
   "metadata": {},
   "outputs": [],
   "source": [
    "xywhList = result.boxes.xywh"
   ]
  },
  {
   "cell_type": "code",
   "execution_count": 38,
   "id": "d448d586-de47-47f7-9348-4e797dd552ff",
   "metadata": {},
   "outputs": [],
   "source": [
    "xywhList = xywh"
   ]
  },
  {
   "cell_type": "code",
   "execution_count": 36,
   "id": "0be5cbbc-6d8b-492c-810c-084d80bef28b",
   "metadata": {},
   "outputs": [
    {
     "data": {
      "text/plain": [
       "tensor([1183.0354,  929.1752,  126.1541,  177.3563], device='cuda:0')"
      ]
     },
     "execution_count": 36,
     "metadata": {},
     "output_type": "execute_result"
    }
   ],
   "source": [
    "xywh[0]"
   ]
  },
  {
   "cell_type": "code",
   "execution_count": 40,
   "id": "43e62714-2f03-4f15-b450-99e57eb673ef",
   "metadata": {},
   "outputs": [
    {
     "name": "stdout",
     "output_type": "stream",
     "text": [
      "tensor(1183.0354, device='cuda:0')\n",
      "tensor(2249.0366, device='cuda:0')\n"
     ]
    }
   ],
   "source": [
    "for xywh in xywhList:\n",
    "    print(xywh[0])"
   ]
  },
  {
   "cell_type": "code",
   "execution_count": 41,
   "id": "b909e825-d4e8-44db-976d-3a7554adce10",
   "metadata": {},
   "outputs": [
    {
     "data": {
      "text/plain": [
       "tensor([2., 4.], device='cuda:0')"
      ]
     },
     "execution_count": 41,
     "metadata": {},
     "output_type": "execute_result"
    }
   ],
   "source": [
    "result.boxes.cls"
   ]
  },
  {
   "cell_type": "code",
   "execution_count": 43,
   "id": "9e1b6598-456d-4188-8fdc-c09d23090697",
   "metadata": {},
   "outputs": [],
   "source": [
    "clsList = result.boxes.cls\n",
    "cls = clsList[0]"
   ]
  },
  {
   "cell_type": "code",
   "execution_count": 44,
   "id": "5251cffc-ff4c-4cd1-a35e-7bb5d78b2e54",
   "metadata": {},
   "outputs": [
    {
     "data": {
      "text/plain": [
       "tensor(2., device='cuda:0')"
      ]
     },
     "execution_count": 44,
     "metadata": {},
     "output_type": "execute_result"
    }
   ],
   "source": [
    "cls"
   ]
  },
  {
   "cell_type": "code",
   "execution_count": 45,
   "id": "8223ef79-faaa-4486-bc4e-0bb5dd36e651",
   "metadata": {},
   "outputs": [
    {
     "data": {
      "text/plain": [
       "tensor(True, device='cuda:0')"
      ]
     },
     "execution_count": 45,
     "metadata": {},
     "output_type": "execute_result"
    }
   ],
   "source": [
    "cls == 2"
   ]
  },
  {
   "cell_type": "code",
   "execution_count": 46,
   "id": "dcd7a7ee-da96-47ca-a105-86b6e03c5937",
   "metadata": {},
   "outputs": [
    {
     "data": {
      "text/plain": [
       "tensor(False, device='cuda:0')"
      ]
     },
     "execution_count": 46,
     "metadata": {},
     "output_type": "execute_result"
    }
   ],
   "source": [
    "cls == 1"
   ]
  },
  {
   "cell_type": "code",
   "execution_count": 48,
   "id": "36de19df-450b-469a-96ef-04d2c51df24b",
   "metadata": {},
   "outputs": [
    {
     "name": "stdout",
     "output_type": "stream",
     "text": [
      "1\n"
     ]
    }
   ],
   "source": [
    "if cls == 2:\n",
    "    print(1)"
   ]
  },
  {
   "cell_type": "code",
   "execution_count": 134,
   "id": "7179b372-46f1-4fb0-a06f-c85e565f09bd",
   "metadata": {},
   "outputs": [
    {
     "name": "stderr",
     "output_type": "stream",
     "text": [
      "\n",
      "image 1/2 C:\\Users\\jinjung\\Downloads\\auto-maple-2.3.6\\auto-maple-2.3.6\\1.png: 128x224 1 me, 1 , 39.9ms\n",
      "image 2/2 C:\\Users\\jinjung\\Downloads\\auto-maple-2.3.6\\auto-maple-2.3.6\\2.png: 128x224 1 Slime, 2 mes, 1 , 40.9ms\n",
      "Speed: 1.0ms preprocess, 40.4ms inference, 2.0ms postprocess per image at shape (1, 3, 224, 224)\n",
      "Results saved to \u001b[1mruns\\detect\\predict51\u001b[0m\n",
      "2 labels saved to runs\\detect\\predict51\\labels\n"
     ]
    },
    {
     "name": "stdout",
     "output_type": "stream",
     "text": [
      "주황버섯의 거리가 -1066.001220703125 으로 멀어서 공격하지 않음\n",
      "걸린 시간 : 0.9521119594573975\n"
     ]
    }
   ],
   "source": [
    "import math\n",
    "import time\n",
    "\n",
    "\n",
    "start = time.time()\n",
    "\n",
    "model = YOLO('best.pt')\n",
    "results = model.predict(source='.', save=True, save_txt=True)  # save predictions as labels\n",
    "result = results[0]\n",
    "\n",
    "clsList = result.boxes.cls\n",
    "xywhList = result.boxes.xywh\n",
    "nameList = result.names\n",
    "confList = result.boxes.conf\n",
    "\n",
    "myNameIndex = -1\n",
    "for i in range(len(nameList)):\n",
    "    if nameList[i] == 'me':\n",
    "        myNameIndex = i\n",
    "\n",
    "# myNameIndex 못찾을 시 예외처리\n",
    "\n",
    "detectSize = len(clsList)\n",
    "\n",
    "meIndex = -1\n",
    "for i in range(detectSize):\n",
    "    \n",
    "    cls = clsList[i]\n",
    "    conf = confList[i]\n",
    "    if conf > 0.4 and cls == myNameIndex:\n",
    "        meIndex = i\n",
    "\n",
    "# meIndex 찾지 못했을대 예외처리\n",
    "# 여러개를 찾았을때 예외처리\n",
    "\n",
    "right = False\n",
    "left = False\n",
    "xRange = 750\n",
    "yRange = 250\n",
    "meX = xywhList[meIndex][0]\n",
    "meY = xywhList[meIndex][1]\n",
    "\n",
    "for i in range(detectSize):\n",
    "    if i == meIndex:\n",
    "        continue\n",
    "    cls = clsList[i]\n",
    "    xywh = xywhList[i]\n",
    "    # xywh[0] xywh[1] meX meY\n",
    "    difX =  meX - xywh[0]\n",
    "    difY = meY - xywh[1] # 양수 == 몬스터가 위에 있음\n",
    "    if abs(difX) < xRange and difY < yRange:\n",
    "        if difX < 0:\n",
    "            print(f\"{nameList[int(cls)]} 발견 오른쪽을 공격하세요\")\n",
    "        else:\n",
    "            print(f\"{nameList[int(cls)]} 발견 왼쪽을 공격하세요\")\n",
    "    else:\n",
    "        print(f\"{nameList[int(cls)]}의 거리가 {difX} 으로 멀어서 공격하지 않음\")\n",
    "\n",
    "print(f\"걸린 시간 : {time.time()-start}\")"
   ]
  },
  {
   "cell_type": "code",
   "execution_count": 53,
   "id": "cad0dcd3-fb48-4169-b025-b2499b4e7f53",
   "metadata": {},
   "outputs": [],
   "source": [
    "xywhList = result.boxes.xywh"
   ]
  },
  {
   "cell_type": "code",
   "execution_count": 128,
   "id": "9269ac48-25be-4580-919c-fa7d4b5e230a",
   "metadata": {},
   "outputs": [
    {
     "data": {
      "text/plain": [
       "tensor([[1183.0354,  929.1752,  126.1541,  177.3563],\n",
       "        [2249.0366,  803.0061,  144.0044,  126.5350]], device='cuda:0')"
      ]
     },
     "execution_count": 128,
     "metadata": {},
     "output_type": "execute_result"
    }
   ],
   "source": [
    "xywhList"
   ]
  },
  {
   "cell_type": "code",
   "execution_count": 129,
   "id": "0377bbbd-5045-447d-9332-2241c40871aa",
   "metadata": {},
   "outputs": [
    {
     "data": {
      "text/plain": [
       "tensor([2., 4.], device='cuda:0')"
      ]
     },
     "execution_count": 129,
     "metadata": {},
     "output_type": "execute_result"
    }
   ],
   "source": [
    "clsList"
   ]
  },
  {
   "cell_type": "code",
   "execution_count": 130,
   "id": "d5522f6d-e384-4429-9104-333afc15f7d2",
   "metadata": {},
   "outputs": [
    {
     "data": {
      "text/plain": [
       "tensor([0.4748, 0.4405], device='cuda:0')"
      ]
     },
     "execution_count": 130,
     "metadata": {},
     "output_type": "execute_result"
    }
   ],
   "source": [
    "result.boxes.conf"
   ]
  },
  {
   "cell_type": "code",
   "execution_count": 62,
   "id": "265e48ea-ee6f-4bea-b9f5-cda6d6bf2938",
   "metadata": {},
   "outputs": [
    {
     "data": {
      "text/plain": [
       "2.0000000000000004"
      ]
     },
     "execution_count": 62,
     "metadata": {},
     "output_type": "execute_result"
    }
   ],
   "source": [
    "calcDistance(0,0,1,1)*calcDistance(0,0,1,1)"
   ]
  },
  {
   "cell_type": "code",
   "execution_count": 131,
   "id": "51a2aa83-90f3-4623-8ba0-d28fc04296fb",
   "metadata": {},
   "outputs": [
    {
     "data": {
      "text/plain": [
       "0"
      ]
     },
     "execution_count": 131,
     "metadata": {},
     "output_type": "execute_result"
    }
   ],
   "source": [
    "meIndex"
   ]
  },
  {
   "cell_type": "code",
   "execution_count": 78,
   "id": "c032f493-9154-487d-93c7-42147540b772",
   "metadata": {},
   "outputs": [],
   "source": [
    "nameList = result.names\n",
    "\n",
    "myNameIndex = -1\n",
    "for i in range(len(nameList)):\n",
    "    if nameList[i] == 'me':\n",
    "        myNameIndex = i\n"
   ]
  },
  {
   "cell_type": "code",
   "execution_count": 77,
   "id": "29801c56-316d-4060-9f04-233a67786956",
   "metadata": {},
   "outputs": [
    {
     "name": "stdout",
     "output_type": "stream",
     "text": [
      "2\n"
     ]
    }
   ],
   "source": [
    "print(myNameIndex)"
   ]
  },
  {
   "cell_type": "code",
   "execution_count": 79,
   "id": "589f398c-6fe8-4994-af14-1ea6928955b3",
   "metadata": {},
   "outputs": [],
   "source": [
    "meIndex = -1\n",
    "for i in range(detectSize):\n",
    "    cls = clsList[i]\n",
    "    if cls == myNameIndex:\n",
    "        meIndex = i"
   ]
  },
  {
   "cell_type": "code",
   "execution_count": 81,
   "id": "0ca6bd6a-b1de-42e9-84da-59035b075eb4",
   "metadata": {},
   "outputs": [],
   "source": [
    "cls = clsList[1]"
   ]
  },
  {
   "cell_type": "code",
   "execution_count": 87,
   "id": "dd85a4e3-98ba-46db-9128-9af511dc886c",
   "metadata": {},
   "outputs": [
    {
     "data": {
      "text/plain": [
       "'주황버섯'"
      ]
     },
     "execution_count": 87,
     "metadata": {},
     "output_type": "execute_result"
    }
   ],
   "source": [
    "nameList[int(cls)]"
   ]
  },
  {
   "cell_type": "code",
   "execution_count": 85,
   "id": "2c283b57-3965-466c-8d25-d0b36d6d3c40",
   "metadata": {},
   "outputs": [],
   "source": [
    "cls = clsList[i]"
   ]
  },
  {
   "cell_type": "code",
   "execution_count": 86,
   "id": "56dd1835-f405-45bc-98b1-c7c216a824db",
   "metadata": {},
   "outputs": [
    {
     "data": {
      "text/plain": [
       "4"
      ]
     },
     "execution_count": 86,
     "metadata": {},
     "output_type": "execute_result"
    }
   ],
   "source": [
    "int(cls)"
   ]
  },
  {
   "cell_type": "code",
   "execution_count": null,
   "id": "561fa971-5edc-439d-9479-600f532b49da",
   "metadata": {},
   "outputs": [],
   "source": []
  }
 ],
 "metadata": {
  "kernelspec": {
   "display_name": "Python 3 (ipykernel)",
   "language": "python",
   "name": "python3"
  },
  "language_info": {
   "codemirror_mode": {
    "name": "ipython",
    "version": 3
   },
   "file_extension": ".py",
   "mimetype": "text/x-python",
   "name": "python",
   "nbconvert_exporter": "python",
   "pygments_lexer": "ipython3",
   "version": "3.8.0"
  }
 },
 "nbformat": 4,
 "nbformat_minor": 5
}
